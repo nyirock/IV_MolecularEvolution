{
 "cells": [
  {
   "cell_type": "markdown",
   "metadata": {},
   "source": [
    "<FarthestFirstTraversal(Data, k) \n",
    "    Centers ← the set consisting of a single randomly chosen point from Data\n",
    "    while |Centers| < k \n",
    "        DataPoint ← the point in Data maximizing d(DataPoint, Centers) \n",
    "        add DataPoint to Centers \n",
    "    return Centers>"
   ]
  },
  {
   "cell_type": "markdown",
   "metadata": {},
   "source": [
    "# Week 1 SARS"
   ]
  },
  {
   "cell_type": "markdown",
   "metadata": {},
   "source": []
  },
  {
   "cell_type": "markdown",
   "metadata": {},
   "source": []
  },
  {
   "cell_type": "code",
   "execution_count": 1,
   "metadata": {
    "collapsed": false
   },
   "outputs": [
    {
     "ename": "NameError",
     "evalue": "name 'compare' is not defined",
     "output_type": "error",
     "traceback": [
      "\u001b[1;31m---------------------------------------------------------------------------\u001b[0m",
      "\u001b[1;31mNameError\u001b[0m                                 Traceback (most recent call last)",
      "\u001b[1;32m<ipython-input-1-d9bde4cf780f>\u001b[0m in \u001b[0;36m<module>\u001b[1;34m()\u001b[0m\n\u001b[1;32m----> 1\u001b[1;33m \u001b[0mcompare\u001b[0m\u001b[1;33m(\u001b[0m\u001b[1;34m'skjfds'\u001b[0m\u001b[1;33m,\u001b[0m \u001b[1;34m'sklksjfsl'\u001b[0m\u001b[1;33m)\u001b[0m\u001b[1;33m\u001b[0m\u001b[0m\n\u001b[0m",
      "\u001b[1;31mNameError\u001b[0m: name 'compare' is not defined"
     ]
    }
   ],
   "source": [
    "compare('skjfds', 'sklksjfsl')"
   ]
  },
  {
   "cell_type": "code",
   "execution_count": 2,
   "metadata": {
    "collapsed": false
   },
   "outputs": [],
   "source": [
    "def edit_dist(a,b):\n",
    "    edits=0\n",
    "    a=a.lower()\n",
    "    b=b.lower()\n",
    "    if len(a)!=len(b):\n",
    "        print(\"ERROR: alignments are of different lengths\")\n",
    "    for position in zip(a,b):\n",
    "        if position[0]!=position[1]:\n",
    "            edits+=1\n",
    "    return edits"
   ]
  },
  {
   "cell_type": "code",
   "execution_count": 11,
   "metadata": {
    "collapsed": false
   },
   "outputs": [],
   "source": [
    "elements=((\"chimp\",\"acgtaggcct\"),\n",
    "        (\"human\",\"atgtaagact\"),\n",
    "        (\"seal\",\"tcgagagcac\"),\n",
    "        (\"whale\",\"tcgaaagcat\"))"
   ]
  },
  {
   "cell_type": "code",
   "execution_count": 12,
   "metadata": {
    "collapsed": false
   },
   "outputs": [
    {
     "data": {
      "text/plain": [
       "3"
      ]
     },
     "execution_count": 12,
     "metadata": {},
     "output_type": "execute_result"
    }
   ],
   "source": [
    "edit_dist(chimp, human)"
   ]
  },
  {
   "cell_type": "code",
   "execution_count": 14,
   "metadata": {
    "collapsed": false
   },
   "outputs": [
    {
     "name": "stdout",
     "output_type": "stream",
     "text": [
      "chimp 0 3 6 4\n",
      "human 3 0 7 5\n",
      "seal 6 7 0 2\n",
      "whale 4 5 2 0\n"
     ]
    }
   ],
   "source": [
    "\n",
    "for i in elements:\n",
    "    row=i[0]\n",
    "    for j in elements:\n",
    "        row=row+\" \"+str(edit_dist(i[1], j[1]))\n",
    "    print(row)"
   ]
  },
  {
   "cell_type": "markdown",
   "metadata": {},
   "source": [
    "# Doing the same but with numpy"
   ]
  },
  {
   "cell_type": "code",
   "execution_count": 15,
   "metadata": {
    "collapsed": false
   },
   "outputs": [
    {
     "data": {
      "text/plain": [
       "array([['chimp', 'acgtaggcct'],\n",
       "       ['human', 'atgtaagact'],\n",
       "       ['seal', 'tcgagagcac'],\n",
       "       ['whale', 'tcgaaagcat']], \n",
       "      dtype='|S10')"
      ]
     },
     "execution_count": 15,
     "metadata": {},
     "output_type": "execute_result"
    }
   ],
   "source": [
    "import numpy as np\n",
    "el_array=np.array(elements)\n",
    "el_array"
   ]
  },
  {
   "cell_type": "code",
   "execution_count": 17,
   "metadata": {
    "collapsed": false
   },
   "outputs": [
    {
     "data": {
      "text/plain": [
       "array(['chimp', 'human', 'seal', 'whale'], \n",
       "      dtype='|S10')"
      ]
     },
     "execution_count": 17,
     "metadata": {},
     "output_type": "execute_result"
    }
   ],
   "source": [
    "el_array[:,0]"
   ]
  },
  {
   "cell_type": "code",
   "execution_count": 18,
   "metadata": {
    "collapsed": false
   },
   "outputs": [
    {
     "data": {
      "text/plain": [
       "array(['acgtaggcct', 'atgtaagact', 'tcgagagcac', 'tcgaaagcat'], \n",
       "      dtype='|S10')"
      ]
     },
     "execution_count": 18,
     "metadata": {},
     "output_type": "execute_result"
    }
   ],
   "source": [
    "el_array[:,1]"
   ]
  },
  {
   "cell_type": "code",
   "execution_count": 31,
   "metadata": {
    "collapsed": false
   },
   "outputs": [
    {
     "data": {
      "text/plain": [
       "array([[ 0.,  3.,  6.,  4.],\n",
       "       [ 3.,  0.,  7.,  5.],\n",
       "       [ 6.,  7.,  0.,  2.],\n",
       "       [ 4.,  5.,  2.,  0.]])"
      ]
     },
     "execution_count": 31,
     "metadata": {},
     "output_type": "execute_result"
    }
   ],
   "source": [
    "dst_array=np.empty(shape=(4,4))\n",
    "\n",
    "dst_array.shape\n",
    "for i in range(dst_array.shape[0]):\n",
    "    for j in range(dst_array.shape[1]):\n",
    "        dst_array[i,j]=edit_dist(el_array[:,1][i], el_array[:,1][j])\n",
    "dst_array"
   ]
  },
  {
   "cell_type": "markdown",
   "metadata": {},
   "source": [
    "## Code challenge\n",
    "In this chapter, we define the length of a path in a tree as the sum of the lengths of its edges (rather than the number of edges on the path). As a result, the evolutionary distance between two present-day species corresponding to leaves i and j in a tree T is equal to the length of the unique path connecting i and j, denoted di,j(T).\n",
    "\n",
    "Distances Between Leaves Problem: Compute the distances between leaves in a weighted tree.\n",
    "     Input:  An integer n followed by the adjacency list of a weighted tree with n leaves.\n",
    "     Output: An n x n matrix (di,j), where di,j is the length of the path between leaves i and j.\n",
    "\n",
    "Code Challenge: Solve the Distances Between Leaves Problem. The tree is given as an adjacency list of a graph whose leaves are integers between 0 and n - 1; the notation a->b:c means that node a is connected to node b by an edge of weight c. The matrix you return should be space-separated."
   ]
  },
  {
   "cell_type": "code",
   "execution_count": 1,
   "metadata": {
    "collapsed": true
   },
   "outputs": [],
   "source": [
    "#manual data read\n",
    "#trick k-Means\n",
    "data=\"\"\"\n",
    "4\n",
    "0->4:11\n",
    "1->4:2\n",
    "2->5:6\n",
    "3->5:7\n",
    "4->0:11\n",
    "4->1:2\n",
    "4->5:4\n",
    "5->4:4\n",
    "5->3:7\n",
    "5->2:6\"\"\".split()\n"
   ]
  },
  {
   "cell_type": "code",
   "execution_count": 2,
   "metadata": {
    "collapsed": false
   },
   "outputs": [
    {
     "data": {
      "text/plain": [
       "['4',\n",
       " '0->4:11',\n",
       " '1->4:2',\n",
       " '2->5:6',\n",
       " '3->5:7',\n",
       " '4->0:11',\n",
       " '4->1:2',\n",
       " '4->5:4',\n",
       " '5->4:4',\n",
       " '5->3:7',\n",
       " '5->2:6']"
      ]
     },
     "execution_count": 2,
     "metadata": {},
     "output_type": "execute_result"
    }
   ],
   "source": [
    "data"
   ]
  },
  {
   "cell_type": "code",
   "execution_count": 5,
   "metadata": {
    "collapsed": false
   },
   "outputs": [
    {
     "data": {
      "text/plain": [
       "4"
      ]
     },
     "execution_count": 5,
     "metadata": {},
     "output_type": "execute_result"
    }
   ],
   "source": [
    "n=int(data[0])\n",
    "n"
   ]
  },
  {
   "cell_type": "code",
   "execution_count": 7,
   "metadata": {
    "collapsed": false
   },
   "outputs": [
    {
     "name": "stdout",
     "output_type": "stream",
     "text": [
      "0->4:11\n",
      "1->4:2\n",
      "2->5:6\n",
      "3->5:7\n",
      "4->0:11\n",
      "4->1:2\n",
      "4->5:4\n",
      "5->4:4\n",
      "5->3:7\n",
      "5->2:6\n"
     ]
    }
   ],
   "source": [
    "nodes=list()\n",
    "leaves=list()\n",
    "for connection in data[1:]:\n",
    "    print connection\n",
    "    node="
   ]
  },
  {
   "cell_type": "code",
   "execution_count": null,
   "metadata": {
    "collapsed": true
   },
   "outputs": [],
   "source": []
  }
 ],
 "metadata": {
  "anaconda-cloud": {},
  "kernelspec": {
   "display_name": "Python 2",
   "language": "python",
   "name": "python2"
  },
  "language_info": {
   "codemirror_mode": {
    "name": "ipython",
    "version": 2
   },
   "file_extension": ".py",
   "mimetype": "text/x-python",
   "name": "python",
   "nbconvert_exporter": "python",
   "pygments_lexer": "ipython2",
   "version": "2.7.11"
  }
 },
 "nbformat": 4,
 "nbformat_minor": 0
}
