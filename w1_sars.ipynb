{
 "cells": [
  {
   "cell_type": "markdown",
   "metadata": {},
   "source": [
    "<FarthestFirstTraversal(Data, k) \n",
    "    Centers ← the set consisting of a single randomly chosen point from Data\n",
    "    while |Centers| < k \n",
    "        DataPoint ← the point in Data maximizing d(DataPoint, Centers) \n",
    "        add DataPoint to Centers \n",
    "    return Centers>"
   ]
  },
  {
   "cell_type": "markdown",
   "metadata": {},
   "source": [
    "# Week 1 SARS"
   ]
  },
  {
   "cell_type": "markdown",
   "metadata": {},
   "source": []
  },
  {
   "cell_type": "markdown",
   "metadata": {},
   "source": []
  },
  {
   "cell_type": "code",
   "execution_count": 1,
   "metadata": {
    "collapsed": false
   },
   "outputs": [
    {
     "ename": "NameError",
     "evalue": "name 'compare' is not defined",
     "output_type": "error",
     "traceback": [
      "\u001b[1;31m---------------------------------------------------------------------------\u001b[0m",
      "\u001b[1;31mNameError\u001b[0m                                 Traceback (most recent call last)",
      "\u001b[1;32m<ipython-input-1-d9bde4cf780f>\u001b[0m in \u001b[0;36m<module>\u001b[1;34m()\u001b[0m\n\u001b[1;32m----> 1\u001b[1;33m \u001b[0mcompare\u001b[0m\u001b[1;33m(\u001b[0m\u001b[1;34m'skjfds'\u001b[0m\u001b[1;33m,\u001b[0m \u001b[1;34m'sklksjfsl'\u001b[0m\u001b[1;33m)\u001b[0m\u001b[1;33m\u001b[0m\u001b[0m\n\u001b[0m",
      "\u001b[1;31mNameError\u001b[0m: name 'compare' is not defined"
     ]
    }
   ],
   "source": [
    "compare('skjfds', 'sklksjfsl')"
   ]
  },
  {
   "cell_type": "code",
   "execution_count": 2,
   "metadata": {
    "collapsed": false
   },
   "outputs": [],
   "source": [
    "def edit_dist(a,b):\n",
    "    edits=0\n",
    "    a=a.lower()\n",
    "    b=b.lower()\n",
    "    if len(a)!=len(b):\n",
    "        print(\"ERROR: alignments are of different lengths\")\n",
    "    for position in zip(a,b):\n",
    "        if position[0]!=position[1]:\n",
    "            edits+=1\n",
    "    return edits"
   ]
  },
  {
   "cell_type": "code",
   "execution_count": 11,
   "metadata": {
    "collapsed": false
   },
   "outputs": [],
   "source": [
    "elements=((\"chimp\",\"acgtaggcct\"),\n",
    "        (\"human\",\"atgtaagact\"),\n",
    "        (\"seal\",\"tcgagagcac\"),\n",
    "        (\"whale\",\"tcgaaagcat\"))"
   ]
  },
  {
   "cell_type": "code",
   "execution_count": 12,
   "metadata": {
    "collapsed": false
   },
   "outputs": [
    {
     "data": {
      "text/plain": [
       "3"
      ]
     },
     "execution_count": 12,
     "metadata": {},
     "output_type": "execute_result"
    }
   ],
   "source": [
    "edit_dist(chimp, human)"
   ]
  },
  {
   "cell_type": "code",
   "execution_count": 14,
   "metadata": {
    "collapsed": false
   },
   "outputs": [
    {
     "name": "stdout",
     "output_type": "stream",
     "text": [
      "chimp 0 3 6 4\n",
      "human 3 0 7 5\n",
      "seal 6 7 0 2\n",
      "whale 4 5 2 0\n"
     ]
    }
   ],
   "source": [
    "\n",
    "for i in elements:\n",
    "    row=i[0]\n",
    "    for j in elements:\n",
    "        row=row+\" \"+str(edit_dist(i[1], j[1]))\n",
    "    print(row)"
   ]
  },
  {
   "cell_type": "markdown",
   "metadata": {},
   "source": [
    "# Doing the same but with numpy"
   ]
  },
  {
   "cell_type": "code",
   "execution_count": 15,
   "metadata": {
    "collapsed": false
   },
   "outputs": [
    {
     "data": {
      "text/plain": [
       "array([['chimp', 'acgtaggcct'],\n",
       "       ['human', 'atgtaagact'],\n",
       "       ['seal', 'tcgagagcac'],\n",
       "       ['whale', 'tcgaaagcat']], \n",
       "      dtype='|S10')"
      ]
     },
     "execution_count": 15,
     "metadata": {},
     "output_type": "execute_result"
    }
   ],
   "source": [
    "import numpy as np\n",
    "el_array=np.array(elements)\n",
    "el_array"
   ]
  },
  {
   "cell_type": "code",
   "execution_count": 17,
   "metadata": {
    "collapsed": false
   },
   "outputs": [
    {
     "data": {
      "text/plain": [
       "array(['chimp', 'human', 'seal', 'whale'], \n",
       "      dtype='|S10')"
      ]
     },
     "execution_count": 17,
     "metadata": {},
     "output_type": "execute_result"
    }
   ],
   "source": [
    "el_array[:,0]"
   ]
  },
  {
   "cell_type": "code",
   "execution_count": 18,
   "metadata": {
    "collapsed": false
   },
   "outputs": [
    {
     "data": {
      "text/plain": [
       "array(['acgtaggcct', 'atgtaagact', 'tcgagagcac', 'tcgaaagcat'], \n",
       "      dtype='|S10')"
      ]
     },
     "execution_count": 18,
     "metadata": {},
     "output_type": "execute_result"
    }
   ],
   "source": [
    "el_array[:,1]"
   ]
  },
  {
   "cell_type": "code",
   "execution_count": 31,
   "metadata": {
    "collapsed": false
   },
   "outputs": [
    {
     "data": {
      "text/plain": [
       "array([[ 0.,  3.,  6.,  4.],\n",
       "       [ 3.,  0.,  7.,  5.],\n",
       "       [ 6.,  7.,  0.,  2.],\n",
       "       [ 4.,  5.,  2.,  0.]])"
      ]
     },
     "execution_count": 31,
     "metadata": {},
     "output_type": "execute_result"
    }
   ],
   "source": [
    "dst_array=np.empty(shape=(4,4))\n",
    "\n",
    "dst_array.shape\n",
    "for i in range(dst_array.shape[0]):\n",
    "    for j in range(dst_array.shape[1]):\n",
    "        dst_array[i,j]=edit_dist(el_array[:,1][i], el_array[:,1][j])\n",
    "dst_array"
   ]
  },
  {
   "cell_type": "markdown",
   "metadata": {},
   "source": [
    "## Code challenge\n",
    "In this chapter, we define the length of a path in a tree as the sum of the lengths of its edges (rather than the number of edges on the path). As a result, the evolutionary distance between two present-day species corresponding to leaves i and j in a tree T is equal to the length of the unique path connecting i and j, denoted di,j(T).\n",
    "\n",
    "Distances Between Leaves Problem: Compute the distances between leaves in a weighted tree.\n",
    "     Input:  An integer n followed by the adjacency list of a weighted tree with n leaves.\n",
    "     Output: An n x n matrix (di,j), where di,j is the length of the path between leaves i and j.\n",
    "\n",
    "Code Challenge: Solve the Distances Between Leaves Problem. The tree is given as an adjacency list of a graph whose leaves are integers between 0 and n - 1; the notation a->b:c means that node a is connected to node b by an edge of weight c. The matrix you return should be space-separated."
   ]
  },
  {
   "cell_type": "code",
   "execution_count": 118,
   "metadata": {
    "collapsed": true
   },
   "outputs": [],
   "source": [
    "#manual data read\n",
    "#trick k-Means\n",
    "data=\"\"\"\n",
    "4\n",
    "0->4:11\n",
    "1->4:2\n",
    "2->5:6\n",
    "3->5:7\n",
    "4->0:11\n",
    "4->1:2\n",
    "4->5:4\n",
    "5->4:4\n",
    "5->3:7\n",
    "5->2:6\n",
    "\"\"\".split()\n"
   ]
  },
  {
   "cell_type": "code",
   "execution_count": 164,
   "metadata": {
    "collapsed": true
   },
   "outputs": [],
   "source": [
    "#manual data read\n",
    "#trick k-Means\n",
    "#5 subst. with 8\n",
    "\n",
    "dataExt=\"\"\"\n",
    "4\n",
    "0->4:11\n",
    "1->4:2\n",
    "2->8:6\n",
    "3->8:7\n",
    "4->0:11\n",
    "4->1:2\n",
    "4->5:2\n",
    "8->3:7\n",
    "8->2:6\n",
    "8->5:2\n",
    "5->4:2\n",
    "5->8:2\n",
    "5->9:5\n",
    "9->5:5\n",
    "9->7:3\n",
    "9->6:7\n",
    "7->9:3\n",
    "6->9:7\n",
    "\"\"\".split()"
   ]
  },
  {
   "cell_type": "code",
   "execution_count": 119,
   "metadata": {
    "collapsed": false
   },
   "outputs": [
    {
     "data": {
      "text/plain": [
       "['4',\n",
       " '0->4:11',\n",
       " '1->4:2',\n",
       " '2->5:6',\n",
       " '3->5:7',\n",
       " '4->0:11',\n",
       " '4->1:2',\n",
       " '4->5:4',\n",
       " '5->4:4',\n",
       " '5->3:7',\n",
       " '5->2:6']"
      ]
     },
     "execution_count": 119,
     "metadata": {},
     "output_type": "execute_result"
    }
   ],
   "source": [
    "data"
   ]
  },
  {
   "cell_type": "code",
   "execution_count": 120,
   "metadata": {
    "collapsed": false
   },
   "outputs": [
    {
     "data": {
      "text/plain": [
       "4"
      ]
     },
     "execution_count": 120,
     "metadata": {},
     "output_type": "execute_result"
    }
   ],
   "source": [
    "n=int(data[0])\n",
    "n"
   ]
  },
  {
   "cell_type": "code",
   "execution_count": 223,
   "metadata": {
    "collapsed": false
   },
   "outputs": [
    {
     "name": "stdout",
     "output_type": "stream",
     "text": [
      "(0, 4, 11)\n",
      "(1, 4, 2)\n",
      "(2, 8, 6)\n",
      "(3, 8, 7)\n",
      "(4, 0, 11)\n",
      "(4, 1, 2)\n",
      "(4, 5, 2)\n",
      "(8, 3, 7)\n",
      "(8, 2, 6)\n",
      "(8, 5, 2)\n",
      "(5, 4, 2)\n",
      "(5, 8, 2)\n",
      "(5, 9, 5)\n",
      "(9, 5, 5)\n",
      "(9, 7, 3)\n",
      "(9, 6, 7)\n",
      "(7, 9, 3)\n",
      "(6, 9, 7)\n"
     ]
    },
    {
     "data": {
      "text/plain": [
       "defaultdict(list,\n",
       "            {0: [{'leaf': True}, [{4: 11}]],\n",
       "             1: [{'leaf': True}, [{4: 2}]],\n",
       "             2: [{'leaf': True}, [{8: 6}]],\n",
       "             3: [{'leaf': True}, [{8: 7}]],\n",
       "             4: [{'leaf': False}, [{0: 11}, {1: 2}, {5: 2}]],\n",
       "             5: [{'leaf': False}, [{4: 2}, {8: 2}, {9: 5}]],\n",
       "             6: [{'leaf': True}, [{9: 7}]],\n",
       "             7: [{'leaf': True}, [{9: 3}]],\n",
       "             8: [{'leaf': False}, [{3: 7}, {2: 6}, {5: 2}]],\n",
       "             9: [{'leaf': False}, [{5: 5}, {7: 3}, {6: 7}]]})"
      ]
     },
     "execution_count": 223,
     "metadata": {},
     "output_type": "execute_result"
    }
   ],
   "source": [
    "#https://stackoverflow.com/questions/960733/python-creating-a-dictionary-of-lists\n",
    "from collections import defaultdict\n",
    "\n",
    "tree=defaultdict(list)\n",
    "\n",
    "for item in dataExt[1:]:\n",
    "    child,parent=item.split(\"->\")\n",
    "    child=int(child)\n",
    "    parent,length=parent.split(\":\")\n",
    "    parent,length=int(parent),int(length)\n",
    "    print(child, parent, length)\n",
    "    if child not in tree:\n",
    "        tree[child]=list()\n",
    "        tree[child].extend([{'leaf':True},[{parent:length}]])\n",
    "    else:\n",
    "        #print(tree[child][0]['leaf'])\n",
    "        tree[child][0]['leaf']=False\n",
    "        tree[child][1].append({parent:length})\n",
    "tree\n",
    "        "
   ]
  },
  {
   "cell_type": "code",
   "execution_count": 224,
   "metadata": {
    "collapsed": false
   },
   "outputs": [
    {
     "data": {
      "text/plain": [
       "{1: 1}"
      ]
     },
     "execution_count": 224,
     "metadata": {},
     "output_type": "execute_result"
    }
   ],
   "source": [
    "a={1:1}\n",
    "a"
   ]
  },
  {
   "cell_type": "code",
   "execution_count": 167,
   "metadata": {
    "collapsed": false
   },
   "outputs": [],
   "source": [
    "#counting the number of leaves manually\n",
    "leaves=[x[0]['leaf'] for x in tree.values()]\n",
    "n_leaves=sum(leaves)"
   ]
  },
  {
   "cell_type": "code",
   "execution_count": 168,
   "metadata": {
    "collapsed": false
   },
   "outputs": [
    {
     "data": {
      "text/plain": [
       "[True, True, True, True, False, False, True, True, False, False]"
      ]
     },
     "execution_count": 168,
     "metadata": {},
     "output_type": "execute_result"
    }
   ],
   "source": [
    "leaves"
   ]
  },
  {
   "cell_type": "code",
   "execution_count": 169,
   "metadata": {
    "collapsed": false
   },
   "outputs": [],
   "source": [
    "nodes=np.array(tree.keys())\n",
    "leaves=np.array(leaves)\n",
    "leaves=nodes[leaves]"
   ]
  },
  {
   "cell_type": "code",
   "execution_count": 170,
   "metadata": {
    "collapsed": false
   },
   "outputs": [
    {
     "name": "stdout",
     "output_type": "stream",
     "text": [
      "\t0\t1\t2\t3\t6\t7\n",
      "0\t00\t00\t00\t00\t00\t00\n",
      "1\t00\t00\t00\t00\t00\t00\n",
      "2\t00\t00\t00\t00\t00\t00\n",
      "3\t00\t00\t00\t00\t00\t00\n",
      "6\t00\t00\t00\t00\t00\t00\n",
      "7\t00\t00\t00\t00\t00\t00\n"
     ]
    }
   ],
   "source": [
    "spacing='\\t'\n",
    "print(''.join([spacing+str(i) for i in leaves]))\n",
    "for i in leaves:\n",
    "    row=str(i)\n",
    "    for j in leaves:\n",
    "        row+=spacing+'00'\n",
    "    print(row)\n",
    "    row=''"
   ]
  },
  {
   "cell_type": "code",
   "execution_count": 171,
   "metadata": {
    "collapsed": false
   },
   "outputs": [
    {
     "data": {
      "text/plain": [
       "defaultdict(list,\n",
       "            {0: [{'leaf': True}, [(4, 11)]],\n",
       "             1: [{'leaf': True}, [(4, 2)]],\n",
       "             2: [{'leaf': True}, [(8, 6)]],\n",
       "             3: [{'leaf': True}, [(8, 7)]],\n",
       "             4: [{'leaf': False}, [(0, 11), (1, 2), (5, 2)]],\n",
       "             5: [{'leaf': False}, [(4, 2), (8, 2), (9, 5)]],\n",
       "             6: [{'leaf': True}, [(9, 7)]],\n",
       "             7: [{'leaf': True}, [(9, 3)]],\n",
       "             8: [{'leaf': False}, [(3, 7), (2, 6), (5, 2)]],\n",
       "             9: [{'leaf': False}, [(5, 5), (7, 3), (6, 7)]]})"
      ]
     },
     "execution_count": 171,
     "metadata": {},
     "output_type": "execute_result"
    }
   ],
   "source": [
    "tree"
   ]
  },
  {
   "cell_type": "code",
   "execution_count": 172,
   "metadata": {
    "collapsed": false
   },
   "outputs": [
    {
     "name": "stdout",
     "output_type": "stream",
     "text": [
      "(0, [{'leaf': True}, [(4, 11)]])\n",
      "(1, [{'leaf': True}, [(4, 2)]])\n",
      "(2, [{'leaf': True}, [(8, 6)]])\n",
      "(3, [{'leaf': True}, [(8, 7)]])\n",
      "(6, [{'leaf': True}, [(9, 7)]])\n",
      "(7, [{'leaf': True}, [(9, 3)]])\n"
     ]
    }
   ],
   "source": [
    "dst_array=np.empty(shape=(n_leaves,n_leaves))\n",
    "\n",
    "for node,properties in tree.items():\n",
    "    \n",
    "    if properties[0]['leaf']:\n",
    "        print(node,properties)\n",
    "        "
   ]
  },
  {
   "cell_type": "code",
   "execution_count": 173,
   "metadata": {
    "collapsed": false
   },
   "outputs": [
    {
     "data": {
      "text/plain": [
       "True"
      ]
     },
     "execution_count": 173,
     "metadata": {},
     "output_type": "execute_result"
    }
   ],
   "source": [
    "lst=[(4, 2), (5, 4), (4, 4)]\n",
    "(4,4) in lst"
   ]
  },
  {
   "cell_type": "code",
   "execution_count": null,
   "metadata": {
    "collapsed": true
   },
   "outputs": [],
   "source": [
    "isTargetLeaf(target,tree):\n",
    "    \n",
    "    node_info=tree[target]\n",
    "    for connection in node_info[1]:\n",
    "    #print(node_info[1])\n",
    "    #print(connection)\n",
    "\n",
    "    if (tree[connection[0]][0]['leaf'] and connection[0]==end):#if node is a target leaf\n",
    "\n",
    "\n",
    "        #print('***', start,end, connection[0],path)\n",
    "        #print('===',connection)\n",
    "        return True\n",
    "    else:\n",
    "        return False\n"
   ]
  },
  {
   "cell_type": "code",
   "execution_count": 225,
   "metadata": {
    "collapsed": false
   },
   "outputs": [
    {
     "data": {
      "text/plain": [
       "defaultdict(list,\n",
       "            {0: [{'leaf': True}, [{4: 11}]],\n",
       "             1: [{'leaf': True}, [{4: 2}]],\n",
       "             2: [{'leaf': True}, [{8: 6}]],\n",
       "             3: [{'leaf': True}, [{8: 7}]],\n",
       "             4: [{'leaf': False}, [{0: 11}, {1: 2}, {5: 2}]],\n",
       "             5: [{'leaf': False}, [{4: 2}, {8: 2}, {9: 5}]],\n",
       "             6: [{'leaf': True}, [{9: 7}]],\n",
       "             7: [{'leaf': True}, [{9: 3}]],\n",
       "             8: [{'leaf': False}, [{3: 7}, {2: 6}, {5: 2}]],\n",
       "             9: [{'leaf': False}, [{5: 5}, {7: 3}, {6: 7}]]})"
      ]
     },
     "execution_count": 225,
     "metadata": {},
     "output_type": "execute_result"
    }
   ],
   "source": [
    "tree"
   ]
  },
  {
   "cell_type": "markdown",
   "metadata": {},
   "source": [
    "# Inspiration found at\n",
    "https://www.python.org/doc/essays/graphs/"
   ]
  },
  {
   "cell_type": "code",
   "execution_count": 326,
   "metadata": {
    "collapsed": false
   },
   "outputs": [],
   "source": [
    "#https://www.python.org/doc/essays/graphs/\n",
    "def find_path(graph, start, end, path=[]):\n",
    "\n",
    "    print(\"---\",start)\n",
    "    if type(start)==dict:\n",
    "        path = path+[start]\n",
    "    else:\n",
    "        start={start:0}\n",
    "        path = path+[start]\n",
    "    if start.keys()[0] == end:\n",
    "        return path\n",
    "    if not graph.has_key(start.keys()[0]):\n",
    "        return None\n",
    "    print(\"***\",path)\n",
    "    for node in graph[start.keys()[0]][1]:\n",
    "        print(node,path)\n",
    "        if node.keys()[0] not in [x.keys()[0] for x in path]:\n",
    "            newpath = find_path(graph, node, end, path)\n",
    "            if newpath: return newpath\n",
    "    return None"
   ]
  },
  {
   "cell_type": "code",
   "execution_count": 327,
   "metadata": {
    "collapsed": false
   },
   "outputs": [
    {
     "data": {
      "text/plain": [
       "[{1: 2}]"
      ]
     },
     "execution_count": 327,
     "metadata": {},
     "output_type": "execute_result"
    }
   ],
   "source": [
    "l=[]\n",
    "l=l+[{1:2}]\n",
    "l"
   ]
  },
  {
   "cell_type": "code",
   "execution_count": 328,
   "metadata": {
    "collapsed": false
   },
   "outputs": [
    {
     "data": {
      "text/plain": [
       "[1, 2]"
      ]
     },
     "execution_count": 328,
     "metadata": {},
     "output_type": "execute_result"
    }
   ],
   "source": [
    "l=[{1:2},{2:3}]\n",
    "[x.keys()[0] for x in l]"
   ]
  },
  {
   "cell_type": "code",
   "execution_count": 331,
   "metadata": {
    "collapsed": false
   },
   "outputs": [
    {
     "name": "stdout",
     "output_type": "stream",
     "text": [
      "('---', 1)\n",
      "('***', [{1: 0}])\n",
      "({4: 2}, [{1: 0}])\n",
      "('---', {4: 2})\n",
      "('***', [{1: 0}, {4: 2}])\n",
      "({0: 11}, [{1: 0}, {4: 2}])\n",
      "('---', {0: 11})\n",
      "('***', [{1: 0}, {4: 2}, {0: 11}])\n",
      "({4: 11}, [{1: 0}, {4: 2}, {0: 11}])\n",
      "({1: 2}, [{1: 0}, {4: 2}])\n",
      "({5: 2}, [{1: 0}, {4: 2}])\n",
      "('---', {5: 2})\n",
      "('***', [{1: 0}, {4: 2}, {5: 2}])\n",
      "({4: 2}, [{1: 0}, {4: 2}, {5: 2}])\n",
      "({8: 2}, [{1: 0}, {4: 2}, {5: 2}])\n",
      "('---', {8: 2})\n",
      "('***', [{1: 0}, {4: 2}, {5: 2}, {8: 2}])\n",
      "({3: 7}, [{1: 0}, {4: 2}, {5: 2}, {8: 2}])\n",
      "('---', {3: 7})\n"
     ]
    },
    {
     "data": {
      "text/plain": [
       "[{1: 0}, {4: 2}, {5: 2}, {8: 2}, {3: 7}]"
      ]
     },
     "execution_count": 331,
     "metadata": {},
     "output_type": "execute_result"
    }
   ],
   "source": [
    "p=find_path(tree,1,3)\n",
    "p"
   ]
  },
  {
   "cell_type": "code",
   "execution_count": 250,
   "metadata": {
    "collapsed": false
   },
   "outputs": [],
   "source": [
    "\n",
    "def treeDistance(tr,start,end,path=[],length=[]):\n",
    "    \n",
    "    print('---',start,end,path)\n",
    "    #selecting a random/first leaf\n",
    "    #print(path)\n",
    "    if start==end:\n",
    "\n",
    "        return path,length\n",
    "    \n",
    "    node_info=tr[start]\n",
    "    \n",
    "    \n",
    "\n",
    "    for connection in node_info[1]:\n",
    "        print(node_info[1])\n",
    "        #print(connection)\n",
    "\n",
    "        if (tr[connection[0]][0]['leaf'] and connection[0]==end):#if node is a target leaf\n",
    "            \n",
    "            \n",
    "            print('***', start,end, connection[0],path)\n",
    "            print('===',connection)\n",
    "            path.append(connection[0])\n",
    "            length.append(connection[1])\n",
    "\n",
    "            #print(good_path)\n",
    "            print('+++',path)\n",
    "            p,l=list(path),list(length)\n",
    "            return path, length\n",
    "    for connection in node_info[1]:#break loop in half separately for leaves and internal nodes\n",
    "        if (not tr[connection[0]][0]['leaf']):#internal node\n",
    "\n",
    "            if (connection[0] not in path):#make sure tree doesn't go back\n",
    "                print('###', start, connection[0],path)\n",
    "                \n",
    "                path.append(connection[0])\n",
    "                length.append(connection[1])\n",
    "                treeDistance(tr,path[-1],end,path,length)\n",
    "            \n",
    "    return path, length\n",
    "#path"
   ]
  },
  {
   "cell_type": "code",
   "execution_count": 191,
   "metadata": {
    "collapsed": false
   },
   "outputs": [],
   "source": [
    "p=[]\n",
    "l=[]\n",
    "def treeDistance(tr,start,end,path=[],length=[]):\n",
    "    \n",
    "    print('---',start,end,path)\n",
    "    #selecting a random/first leaf\n",
    "    #print(path)\n",
    "    if start==end:\n",
    "\n",
    "        return path,length\n",
    "    \n",
    "    node_info=tr[start]\n",
    "    \n",
    "    \n",
    "\n",
    "    for connection in node_info[1]:\n",
    "        print(node_info[1])\n",
    "        #print(connection)\n",
    "\n",
    "        if (tr[connection[0]][0]['leaf'] and connection[0]==end):#if node is a target leaf\n",
    "            \n",
    "            \n",
    "            print('***', start,end, connection[0],path)\n",
    "            print('===',connection)\n",
    "            path.append(connection[0])\n",
    "            length.append(connection[1])\n",
    "\n",
    "            #print(good_path)\n",
    "            print('+++',path)\n",
    "            p,l=list(path),list(length)\n",
    "            return path, length\n",
    "    for connection in node_info[1]:#break loop in half separately for leaves and internal nodes\n",
    "        if (not tr[connection[0]][0]['leaf']):#internal node\n",
    "            if (connection[0] not in path):#make sure tree doesn't go back\n",
    "                print('###', start, connection[0],path)\n",
    "                path.append(connection[0])\n",
    "                length.append(connection[1])\n",
    "                for connection in tr[connection[0]][1]:#checking for leaves inside an internal node\n",
    "                    print(node_info[1])\n",
    "                    #print(connection)\n",
    "\n",
    "                    if (tr[connection[0]][0]['leaf'] and connection[0]==end):#if node is a target leaf\n",
    "\n",
    "\n",
    "                        print('***', start,end, connection[0],path)\n",
    "                        print('===',connection)\n",
    "                        path.append(connection[0])\n",
    "                        length.append(connection[1])\n",
    "\n",
    "                        #print(good_path)\n",
    "                        print('+++',path)\n",
    "                        p,l=list(path),list(length)\n",
    "                        return path, length                \n",
    "                            \n",
    "                    else:#if no target leaf found delete an internal node\n",
    "                        if len(path)>0:\n",
    "                            del path[-1]\n",
    "                            del length[-1]\n",
    "    treeDistance(tr,path[-1],end,path,length)        \n"
   ]
  },
  {
   "cell_type": "code",
   "execution_count": null,
   "metadata": {
    "collapsed": true
   },
   "outputs": [],
   "source": []
  },
  {
   "cell_type": "code",
   "execution_count": null,
   "metadata": {
    "collapsed": true
   },
   "outputs": [],
   "source": []
  },
  {
   "cell_type": "code",
   "execution_count": null,
   "metadata": {
    "collapsed": true
   },
   "outputs": [],
   "source": []
  },
  {
   "cell_type": "code",
   "execution_count": 196,
   "metadata": {
    "collapsed": false
   },
   "outputs": [
    {
     "name": "stdout",
     "output_type": "stream",
     "text": [
      "('---', 0, 7, [])\n",
      "[(4, 11)]\n",
      "('###', 0, 4, [])\n",
      "('---', 4, 7, [4])\n",
      "[(0, 11), (1, 2), (5, 2)]\n",
      "[(0, 11), (1, 2), (5, 2)]\n",
      "[(0, 11), (1, 2), (5, 2)]\n",
      "('###', 4, 5, [4])\n",
      "('---', 5, 7, [4, 5])\n",
      "[(4, 2), (8, 2), (9, 5)]\n",
      "[(4, 2), (8, 2), (9, 5)]\n",
      "[(4, 2), (8, 2), (9, 5)]\n",
      "('###', 5, 8, [4, 5])\n",
      "('---', 8, 7, [4, 5, 8])\n",
      "[(3, 7), (2, 6), (5, 2)]\n",
      "[(3, 7), (2, 6), (5, 2)]\n",
      "[(3, 7), (2, 6), (5, 2)]\n",
      "('###', 5, 9, [4, 5, 8])\n",
      "('---', 9, 7, [4, 5, 8, 9])\n",
      "[(5, 5), (7, 3), (6, 7)]\n",
      "[(5, 5), (7, 3), (6, 7)]\n",
      "('***', 9, 7, 7, [4, 5, 8, 9])\n",
      "('===', (7, 3))\n",
      "('+++', [4, 5, 8, 9, 7])\n"
     ]
    }
   ],
   "source": [
    "p,l=treeDistance(tree, 0,7,[],[])"
   ]
  },
  {
   "cell_type": "code",
   "execution_count": 185,
   "metadata": {
    "collapsed": false
   },
   "outputs": [
    {
     "data": {
      "text/plain": [
       "[4, 5, 8, 9, 7]"
      ]
     },
     "execution_count": 185,
     "metadata": {},
     "output_type": "execute_result"
    }
   ],
   "source": [
    "p"
   ]
  },
  {
   "cell_type": "code",
   "execution_count": 163,
   "metadata": {
    "collapsed": false
   },
   "outputs": [
    {
     "data": {
      "text/plain": [
       "5"
      ]
     },
     "execution_count": 163,
     "metadata": {},
     "output_type": "execute_result"
    }
   ],
   "source": [
    "sum(l)"
   ]
  },
  {
   "cell_type": "code",
   "execution_count": 146,
   "metadata": {
    "collapsed": false
   },
   "outputs": [],
   "source": [
    "import numpy as np\n",
    "tr=np.array(tree)"
   ]
  },
  {
   "cell_type": "code",
   "execution_count": 147,
   "metadata": {
    "collapsed": false
   },
   "outputs": [
    {
     "ename": "TypeError",
     "evalue": "iteration over a 0-d array",
     "output_type": "error",
     "traceback": [
      "\u001b[1;31m---------------------------------------------------------------------------\u001b[0m",
      "\u001b[1;31mTypeError\u001b[0m                                 Traceback (most recent call last)",
      "\u001b[1;32m<ipython-input-147-b1cdcc67450c>\u001b[0m in \u001b[0;36m<module>\u001b[1;34m()\u001b[0m\n\u001b[1;32m----> 1\u001b[1;33m \u001b[1;32mfor\u001b[0m \u001b[0mi\u001b[0m \u001b[1;32min\u001b[0m \u001b[0mtr\u001b[0m\u001b[1;33m:\u001b[0m\u001b[1;33m\u001b[0m\u001b[0m\n\u001b[0m\u001b[0;32m      2\u001b[0m     \u001b[1;32mprint\u001b[0m \u001b[0mi\u001b[0m\u001b[1;33m\u001b[0m\u001b[0m\n",
      "\u001b[1;31mTypeError\u001b[0m: iteration over a 0-d array"
     ]
    }
   ],
   "source": [
    "for i in tr:\n",
    "    print i"
   ]
  },
  {
   "cell_type": "code",
   "execution_count": 153,
   "metadata": {
    "collapsed": false
   },
   "outputs": [
    {
     "data": {
      "text/plain": [
       "[]"
      ]
     },
     "execution_count": 153,
     "metadata": {},
     "output_type": "execute_result"
    }
   ],
   "source": [
    "l"
   ]
  },
  {
   "cell_type": "code",
   "execution_count": 152,
   "metadata": {
    "collapsed": false
   },
   "outputs": [
    {
     "name": "stdout",
     "output_type": "stream",
     "text": [
      "('---', 0, 0, [])\n",
      "('---', 0, 1, [])\n",
      "[(4, 11)]\n",
      "('###', 0, 4, [])\n",
      "('---', 4, 1, [4])\n",
      "[(0, 11), (1, 2), (5, 4)]\n",
      "[(0, 11), (1, 2), (5, 4)]\n",
      "('***', 4, 1, 1, [4])\n",
      "('===', (1, 2))\n",
      "('+++', [4, 1])\n"
     ]
    },
    {
     "ename": "TypeError",
     "evalue": "'NoneType' object has no attribute '__getitem__'",
     "output_type": "error",
     "traceback": [
      "\u001b[1;31m---------------------------------------------------------------------------\u001b[0m",
      "\u001b[1;31mTypeError\u001b[0m                                 Traceback (most recent call last)",
      "\u001b[1;32m<ipython-input-152-3f3fe93f13ef>\u001b[0m in \u001b[0;36m<module>\u001b[1;34m()\u001b[0m\n\u001b[0;32m      6\u001b[0m     \u001b[1;32mfor\u001b[0m \u001b[0mj\u001b[0m \u001b[1;32min\u001b[0m \u001b[0mrange\u001b[0m\u001b[1;33m(\u001b[0m\u001b[0mdm\u001b[0m\u001b[1;33m.\u001b[0m\u001b[0mshape\u001b[0m\u001b[1;33m[\u001b[0m\u001b[1;36m1\u001b[0m\u001b[1;33m]\u001b[0m\u001b[1;33m)\u001b[0m\u001b[1;33m:\u001b[0m\u001b[1;33m\u001b[0m\u001b[0m\n\u001b[0;32m      7\u001b[0m \u001b[1;33m\u001b[0m\u001b[0m\n\u001b[1;32m----> 8\u001b[1;33m         \u001b[0mtreeDistance\u001b[0m\u001b[1;33m(\u001b[0m\u001b[0mtree\u001b[0m\u001b[1;33m,\u001b[0m \u001b[0mi\u001b[0m\u001b[1;33m,\u001b[0m\u001b[0mj\u001b[0m\u001b[1;33m,\u001b[0m\u001b[1;33m[\u001b[0m\u001b[1;33m]\u001b[0m\u001b[1;33m,\u001b[0m\u001b[1;33m[\u001b[0m\u001b[1;33m]\u001b[0m\u001b[1;33m)\u001b[0m\u001b[1;33m[\u001b[0m\u001b[1;36m1\u001b[0m\u001b[1;33m]\u001b[0m\u001b[1;33m\u001b[0m\u001b[0m\n\u001b[0m\u001b[0;32m      9\u001b[0m         \u001b[0mdm\u001b[0m\u001b[1;33m[\u001b[0m\u001b[0mi\u001b[0m\u001b[1;33m,\u001b[0m\u001b[0mj\u001b[0m\u001b[1;33m]\u001b[0m\u001b[1;33m=\u001b[0m\u001b[0msum\u001b[0m\u001b[1;33m(\u001b[0m\u001b[0ml\u001b[0m\u001b[1;33m)\u001b[0m\u001b[1;33m\u001b[0m\u001b[0m\n\u001b[0;32m     10\u001b[0m \u001b[0mdm\u001b[0m\u001b[1;33m\u001b[0m\u001b[0m\n",
      "\u001b[1;31mTypeError\u001b[0m: 'NoneType' object has no attribute '__getitem__'"
     ]
    }
   ],
   "source": [
    "#determining number of leaves, creating an empty distance matrix\n",
    "n=sum([x[0]['leaf'] for x in tree.values()])\n",
    "dm=np.empty(shape=(n,n))\n",
    "\n",
    "for i in range(dm.shape[0]):\n",
    "    for j in range(dm.shape[1]):\n",
    "\n",
    "        treeDistance(tree, i,j,[],[])[1]\n",
    "        dm[i,j]=sum(l)\n",
    "dm"
   ]
  },
  {
   "cell_type": "code",
   "execution_count": 137,
   "metadata": {
    "collapsed": false
   },
   "outputs": [
    {
     "name": "stdout",
     "output_type": "stream",
     "text": [
      "\t0\t1\t2\t3\n",
      "0\t0\t13\t21\t22\n",
      "1\t13\t0\t12\t13\n",
      "2\t21\t12\t0\t13\n",
      "3\t22\t13\t13\t0\n"
     ]
    }
   ],
   "source": [
    "#counting the number of leaves manually\n",
    "leaves=[x[0]['leaf'] for x in tree.values()]\n",
    "n_leaves=sum(leaves)\n",
    "nodes=np.array(tree.keys())\n",
    "leaves=np.array(leaves)\n",
    "leaves=nodes[leaves]\n",
    "spacing='\\t'\n",
    "print(''.join([spacing+str(i) for i in leaves]))\n",
    "for i in leaves:\n",
    "    row=str(i)\n",
    "    for j in leaves:\n",
    "        row+=spacing+str(int(dm[i,j]))\n",
    "    print(row)\n",
    "    row=''"
   ]
  },
  {
   "cell_type": "code",
   "execution_count": 138,
   "metadata": {
    "collapsed": false
   },
   "outputs": [
    {
     "name": "stdout",
     "output_type": "stream",
     "text": [
      "\t0\t13\t21\t22\n",
      "\t13\t0\t12\t13\n",
      "\t21\t12\t0\t13\n",
      "\t22\t13\t13\t0\n"
     ]
    }
   ],
   "source": [
    "leaves=[x[0]['leaf'] for x in tree.values()]\n",
    "n_leaves=sum(leaves)\n",
    "nodes=np.array(tree.keys())\n",
    "leaves=np.array(leaves)\n",
    "leaves=nodes[leaves]\n",
    "spacing=\"\\t\"\n",
    "#print(''.join([spacing+str(i) for i in leaves]))\n",
    "for i in leaves:\n",
    "    row=\"\"\n",
    "    for j in leaves:\n",
    "        row+=spacing+str(int(dm[i,j]))\n",
    "    print(row)\n",
    "    row=''"
   ]
  },
  {
   "cell_type": "code",
   "execution_count": 139,
   "metadata": {
    "collapsed": false
   },
   "outputs": [
    {
     "ename": "IndexError",
     "evalue": "list index out of range",
     "output_type": "error",
     "traceback": [
      "\u001b[1;31m---------------------------------------------------------------------------\u001b[0m",
      "\u001b[1;31mIndexError\u001b[0m                                Traceback (most recent call last)",
      "\u001b[1;32m<ipython-input-139-cfe42fdd665c>\u001b[0m in \u001b[0;36m<module>\u001b[1;34m()\u001b[0m\n\u001b[0;32m      7\u001b[0m     \u001b[0mfirst_line\u001b[0m \u001b[1;33m=\u001b[0m \u001b[0mmyfile\u001b[0m\u001b[1;33m.\u001b[0m\u001b[0mreadline\u001b[0m\u001b[1;33m(\u001b[0m\u001b[1;33m)\u001b[0m\u001b[1;31m#skipping header\u001b[0m\u001b[1;33m\u001b[0m\u001b[0m\n\u001b[0;32m      8\u001b[0m     \u001b[0mfirst_line\u001b[0m\u001b[1;33m=\u001b[0m\u001b[0mmyfile\u001b[0m\u001b[1;33m.\u001b[0m\u001b[0mreadline\u001b[0m\u001b[1;33m(\u001b[0m\u001b[1;33m)\u001b[0m\u001b[1;33m\u001b[0m\u001b[0m\n\u001b[1;32m----> 9\u001b[1;33m     \u001b[0mk\u001b[0m\u001b[1;33m,\u001b[0m\u001b[0mm\u001b[0m\u001b[1;33m=\u001b[0m\u001b[0mint\u001b[0m\u001b[1;33m(\u001b[0m\u001b[0mfirst_line\u001b[0m\u001b[1;33m.\u001b[0m\u001b[0msplit\u001b[0m\u001b[1;33m(\u001b[0m\u001b[1;33m)\u001b[0m\u001b[1;33m[\u001b[0m\u001b[1;36m0\u001b[0m\u001b[1;33m]\u001b[0m\u001b[1;33m)\u001b[0m\u001b[1;33m,\u001b[0m\u001b[0mint\u001b[0m\u001b[1;33m(\u001b[0m\u001b[0mfirst_line\u001b[0m\u001b[1;33m.\u001b[0m\u001b[0msplit\u001b[0m\u001b[1;33m(\u001b[0m\u001b[1;33m)\u001b[0m\u001b[1;33m[\u001b[0m\u001b[1;36m1\u001b[0m\u001b[1;33m]\u001b[0m\u001b[1;33m)\u001b[0m\u001b[1;33m\u001b[0m\u001b[0m\n\u001b[0m\u001b[0;32m     10\u001b[0m     \u001b[0mfirst_line\u001b[0m\u001b[1;33m=\u001b[0m\u001b[0mmyfile\u001b[0m\u001b[1;33m.\u001b[0m\u001b[0mreadline\u001b[0m\u001b[1;33m(\u001b[0m\u001b[1;33m)\u001b[0m\u001b[1;33m\u001b[0m\u001b[0m\n\u001b[0;32m     11\u001b[0m     \u001b[0mb\u001b[0m\u001b[1;33m=\u001b[0m\u001b[0mfloat\u001b[0m\u001b[1;33m(\u001b[0m\u001b[0mfirst_line\u001b[0m\u001b[1;33m.\u001b[0m\u001b[0mstrip\u001b[0m\u001b[1;33m(\u001b[0m\u001b[1;33m)\u001b[0m\u001b[1;33m)\u001b[0m\u001b[1;33m\u001b[0m\u001b[0m\n",
      "\u001b[1;31mIndexError\u001b[0m: list index out of range"
     ]
    }
   ],
   "source": [
    "#reads with no centers\n",
    "import random as rnd\n",
    "import math\n",
    "import numpy as np\n",
    "xy=[]\n",
    "with open('Distance_Between_Leaves.txt', 'r') as myfile:\n",
    "    first_line = myfile.readline()#skipping header\n",
    "    first_line=myfile.readline()\n",
    "    k,m=int(first_line.split()[0]),int(first_line.split()[1])\n",
    "    first_line=myfile.readline()\n",
    "    b=float(first_line.strip())\n",
    "    print 'number of centers: ',k\n",
    "    print 'dimensions: ',m\n",
    "    print 'beta: ',b\n",
    "    #next(myfile)#skipping separator\n",
    "    for line in myfile:\n",
    "        \n",
    "        #print line\n",
    "        xy.append(tuple(float(i) for i in line.split()))\n",
    "        \n",
    "#xy=[(float(a),float(b),float(c),float(d),float(e)) for a,b,c,d,e in zip(data[::5],data[1::5],data[2::5],data[3::5],data[4::5]) ]\n",
    "\n",
    "\n",
    "#print 'number of centers: ',k\n",
    "#print 'dimensions: ',d\n",
    "#xy=[(float(a),float(b)) for a,b in zip(data[::2],data[1::2]) ]\n"
   ]
  },
  {
   "cell_type": "code",
   "execution_count": 140,
   "metadata": {
    "collapsed": false
   },
   "outputs": [
    {
     "data": {
      "text/plain": [
       "array([[  0.,  13.,  21.,  22.],\n",
       "       [ 13.,   0.,  12.,  13.],\n",
       "       [ 21.,  12.,   0.,  13.],\n",
       "       [ 22.,  13.,  13.,   0.]])"
      ]
     },
     "execution_count": 140,
     "metadata": {},
     "output_type": "execute_result"
    }
   ],
   "source": [
    "dm"
   ]
  },
  {
   "cell_type": "code",
   "execution_count": 141,
   "metadata": {
    "collapsed": false
   },
   "outputs": [
    {
     "data": {
      "text/plain": [
       "array([  0.,  13.,  21.,  22.])"
      ]
     },
     "execution_count": 141,
     "metadata": {},
     "output_type": "execute_result"
    }
   ],
   "source": [
    "dm[:,0]"
   ]
  },
  {
   "cell_type": "code",
   "execution_count": null,
   "metadata": {
    "collapsed": true
   },
   "outputs": [],
   "source": []
  },
  {
   "cell_type": "code",
   "execution_count": null,
   "metadata": {
    "collapsed": true
   },
   "outputs": [],
   "source": []
  },
  {
   "cell_type": "code",
   "execution_count": null,
   "metadata": {
    "collapsed": true
   },
   "outputs": [],
   "source": []
  }
 ],
 "metadata": {
  "anaconda-cloud": {},
  "kernelspec": {
   "display_name": "Python 2",
   "language": "python",
   "name": "python2"
  },
  "language_info": {
   "codemirror_mode": {
    "name": "ipython",
    "version": 2
   },
   "file_extension": ".py",
   "mimetype": "text/x-python",
   "name": "python",
   "nbconvert_exporter": "python",
   "pygments_lexer": "ipython2",
   "version": "2.7.11"
  }
 },
 "nbformat": 4,
 "nbformat_minor": 0
}
